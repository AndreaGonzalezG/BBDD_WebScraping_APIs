{
 "cells": [
  {
   "cell_type": "markdown",
   "metadata": {},
   "source": [
    "## Ejercicios Selenium Extracción de Datos de Libros de Ficción en La Casa del Libro\n",
    "\n",
    "Imagina que eres un analista de datos en una importante cadena de librerías y tu misión es recopilar información actualizada sobre los libros de ficción disponibles en el mercado. \n",
    "Esta información es vital para tomar decisiones estratégicas, como determinar qué libros de ficción deben ser promocionados, ajustar los precios competitivamente y gestionar adecuadamente el inventario. La Casa del Libro es uno de los principales competidores, por lo que es esencial mantenerse al tanto de su catálogo.\n",
    "\n",
    "Objetivo del Ejercicio: El objetivo de este ejercicio es que las alumnas utilicen Selenium en Python para automatizar la extracción de datos de los libros de ficción en el sitio web de La Casa del Libro. Deberán obtener información clave de los libros, incluyendo título, autor, precio, editorial, idioma y número de páginas.\n",
    "\n",
    "- Descripción:\n",
    "Acceso a la Página de La Casa del Libro: Utilizando Selenium, deberás automatizar el proceso de navegación hacia la página de libros de ficción en el sitio web de La Casa del Libro.\n",
    "Extracción de Datos de las 5 Primeras Páginas: Una vez en la página de libros de ficción, debes programar su script para que recorra los 5 primeros libros de libros, extrayendo los siguientes datos de cada libro:\n",
    "Título del libro.\n",
    "Autor(es) del libro.\n",
    "Precio del libro.\n",
    "Editorial del libro.\n",
    "Idioma del libro.\n",
    "Número de páginas del libro.\n",
    "Almacenamiento de Datos: Los datos extraídos deben almacenarse en un DataFrame."
   ]
  },
  {
   "cell_type": "markdown",
   "metadata": {},
   "source": [
    "1. Importar librerías"
   ]
  },
  {
   "cell_type": "code",
   "execution_count": 1,
   "metadata": {},
   "outputs": [],
   "source": [
    "# Importar librerías para tratamiento de datos\n",
    "# -----------------------------------------------------------------------\n",
    "import pandas as pd  # Pandas es una poderosa librería para manipulación y análisis de datos en Python.\n",
    "\n",
    "# Importar librerías para web scraping y manipulación de datos\n",
    "# -----------------------------------------------------------------------\n",
    "from bs4 import BeautifulSoup\n",
    "import requests\n",
    "\n",
    "# Importar librerías para automatización de navegadores web con Selenium\n",
    "# -----------------------------------------------------------------------\n",
    "from selenium import webdriver  # Selenium es una herramienta para automatizar la interacción con navegadores web.\n",
    "from webdriver_manager.chrome import ChromeDriverManager  # ChromeDriverManager gestiona la instalación del controlador de Chrome.\n",
    "from selenium.webdriver.common.keys import Keys  # Keys es útil para simular eventos de teclado en Selenium.\n",
    "from selenium.webdriver.support.ui import Select  # Select se utiliza para interactuar con elementos <select> en páginas web.\n",
    "\n",
    "# Importar librerías para pausar la ejecución\n",
    "# -----------------------------------------------------------------------\n",
    "from time import sleep  # Sleep se utiliza para pausar la ejecución del programa por un número de segundos.\n",
    "\n",
    "# Configuraciones\n",
    "# -----------------------------------------------------------------------\n",
    "pd.set_option('display.max_columns', None)  # Establece una opción de Pandas para mostrar todas las columnas de un DataFrame.\n"
   ]
  },
  {
   "cell_type": "markdown",
   "metadata": {},
   "source": [
    "2. Iniciar driver"
   ]
  },
  {
   "cell_type": "code",
   "execution_count": 4,
   "metadata": {},
   "outputs": [
    {
     "name": "stdout",
     "output_type": "stream",
     "text": [
      "Aceptacion cookies\n",
      "Ingresa a libros de ficcion\n"
     ]
    },
    {
     "ename": "ElementClickInterceptedException",
     "evalue": "Message: element click intercepted: Element <button data-v-05bce262=\"\" disabled=\"disabled\" type=\"button\" aria-label=\"Previous page\" class=\"v-pagination__navigation v-pagination__navigation--disabled\">...</button> is not clickable at point (701, 702). Other element would receive the click: <li data-v-05bce262=\"\">...</li>\n  (Session info: chrome=128.0.6613.85)\nStacktrace:\n0   chromedriver                        0x00000001011db9a8 cxxbridge1$str$ptr + 1887096\n1   chromedriver                        0x00000001011d3e10 cxxbridge1$str$ptr + 1855456\n2   chromedriver                        0x0000000100dd8be0 cxxbridge1$string$len + 89508\n3   chromedriver                        0x0000000100e226fc cxxbridge1$string$len + 391360\n4   chromedriver                        0x0000000100e20d28 cxxbridge1$string$len + 384748\n5   chromedriver                        0x0000000100e1ef54 cxxbridge1$string$len + 377112\n6   chromedriver                        0x0000000100e1e4a0 cxxbridge1$string$len + 374372\n7   chromedriver                        0x0000000100e13930 cxxbridge1$string$len + 330484\n8   chromedriver                        0x0000000100e133c0 cxxbridge1$string$len + 329092\n9   chromedriver                        0x0000000100e564a4 cxxbridge1$string$len + 603752\n10  chromedriver                        0x0000000100e11a08 cxxbridge1$string$len + 322508\n11  chromedriver                        0x0000000100e1266c cxxbridge1$string$len + 325680\n12  chromedriver                        0x00000001011a2068 cxxbridge1$str$ptr + 1651256\n13  chromedriver                        0x00000001011a699c cxxbridge1$str$ptr + 1669996\n14  chromedriver                        0x00000001011871fc cxxbridge1$str$ptr + 1541068\n15  chromedriver                        0x00000001011a726c cxxbridge1$str$ptr + 1672252\n16  chromedriver                        0x0000000101178810 cxxbridge1$str$ptr + 1481184\n17  chromedriver                        0x00000001011c5108 cxxbridge1$str$ptr + 1794776\n18  chromedriver                        0x00000001011c5284 cxxbridge1$str$ptr + 1795156\n19  chromedriver                        0x00000001011d3aac cxxbridge1$str$ptr + 1854588\n20  libsystem_pthread.dylib             0x000000018aff1f94 _pthread_start + 136\n21  libsystem_pthread.dylib             0x000000018afecd34 thread_start + 8\n",
     "output_type": "error",
     "traceback": [
      "\u001b[0;31m---------------------------------------------------------------------------\u001b[0m",
      "\u001b[0;31mElementClickInterceptedException\u001b[0m          Traceback (most recent call last)",
      "Cell \u001b[0;32mIn[4], line 37\u001b[0m\n\u001b[1;32m     35\u001b[0m lista_url\u001b[38;5;241m=\u001b[39m []\n\u001b[1;32m     36\u001b[0m \u001b[38;5;28;01mfor\u001b[39;00m pagina \u001b[38;5;129;01min\u001b[39;00m \u001b[38;5;28mrange\u001b[39m(\u001b[38;5;241m1\u001b[39m,\u001b[38;5;241m6\u001b[39m):\n\u001b[0;32m---> 37\u001b[0m     url \u001b[38;5;241m=\u001b[39m driver\u001b[38;5;241m.\u001b[39mfind_element(\u001b[38;5;124m\"\u001b[39m\u001b[38;5;124mcss selector\u001b[39m\u001b[38;5;124m\"\u001b[39m, \u001b[38;5;124mf\u001b[39m\u001b[38;5;124m\"\u001b[39m\u001b[38;5;124m#buscadorNF > div.col-md-9.col-12 > div > div:nth-child(4) > div > div > nav > ul > li:nth-child(\u001b[39m\u001b[38;5;132;01m{\u001b[39;00mpagina\u001b[38;5;132;01m}\u001b[39;00m\u001b[38;5;124m) > button\u001b[39m\u001b[38;5;124m\"\u001b[39m)\u001b[38;5;241m.\u001b[39mclick()\n\u001b[1;32m     38\u001b[0m     lista_url\u001b[38;5;241m.\u001b[39mappend(url)\n\u001b[1;32m     40\u001b[0m \u001b[38;5;28mprint\u001b[39m(lista_url)\n",
      "File \u001b[0;32m~/anaconda3/lib/python3.12/site-packages/selenium/webdriver/remote/webelement.py:94\u001b[0m, in \u001b[0;36mWebElement.click\u001b[0;34m(self)\u001b[0m\n\u001b[1;32m     92\u001b[0m \u001b[38;5;28;01mdef\u001b[39;00m \u001b[38;5;21mclick\u001b[39m(\u001b[38;5;28mself\u001b[39m) \u001b[38;5;241m-\u001b[39m\u001b[38;5;241m>\u001b[39m \u001b[38;5;28;01mNone\u001b[39;00m:\n\u001b[1;32m     93\u001b[0m \u001b[38;5;250m    \u001b[39m\u001b[38;5;124;03m\"\"\"Clicks the element.\"\"\"\u001b[39;00m\n\u001b[0;32m---> 94\u001b[0m     \u001b[38;5;28mself\u001b[39m\u001b[38;5;241m.\u001b[39m_execute(Command\u001b[38;5;241m.\u001b[39mCLICK_ELEMENT)\n",
      "File \u001b[0;32m~/anaconda3/lib/python3.12/site-packages/selenium/webdriver/remote/webelement.py:395\u001b[0m, in \u001b[0;36mWebElement._execute\u001b[0;34m(self, command, params)\u001b[0m\n\u001b[1;32m    393\u001b[0m     params \u001b[38;5;241m=\u001b[39m {}\n\u001b[1;32m    394\u001b[0m params[\u001b[38;5;124m\"\u001b[39m\u001b[38;5;124mid\u001b[39m\u001b[38;5;124m\"\u001b[39m] \u001b[38;5;241m=\u001b[39m \u001b[38;5;28mself\u001b[39m\u001b[38;5;241m.\u001b[39m_id\n\u001b[0;32m--> 395\u001b[0m \u001b[38;5;28;01mreturn\u001b[39;00m \u001b[38;5;28mself\u001b[39m\u001b[38;5;241m.\u001b[39m_parent\u001b[38;5;241m.\u001b[39mexecute(command, params)\n",
      "File \u001b[0;32m~/anaconda3/lib/python3.12/site-packages/selenium/webdriver/remote/webdriver.py:354\u001b[0m, in \u001b[0;36mWebDriver.execute\u001b[0;34m(self, driver_command, params)\u001b[0m\n\u001b[1;32m    352\u001b[0m response \u001b[38;5;241m=\u001b[39m \u001b[38;5;28mself\u001b[39m\u001b[38;5;241m.\u001b[39mcommand_executor\u001b[38;5;241m.\u001b[39mexecute(driver_command, params)\n\u001b[1;32m    353\u001b[0m \u001b[38;5;28;01mif\u001b[39;00m response:\n\u001b[0;32m--> 354\u001b[0m     \u001b[38;5;28mself\u001b[39m\u001b[38;5;241m.\u001b[39merror_handler\u001b[38;5;241m.\u001b[39mcheck_response(response)\n\u001b[1;32m    355\u001b[0m     response[\u001b[38;5;124m\"\u001b[39m\u001b[38;5;124mvalue\u001b[39m\u001b[38;5;124m\"\u001b[39m] \u001b[38;5;241m=\u001b[39m \u001b[38;5;28mself\u001b[39m\u001b[38;5;241m.\u001b[39m_unwrap_value(response\u001b[38;5;241m.\u001b[39mget(\u001b[38;5;124m\"\u001b[39m\u001b[38;5;124mvalue\u001b[39m\u001b[38;5;124m\"\u001b[39m, \u001b[38;5;28;01mNone\u001b[39;00m))\n\u001b[1;32m    356\u001b[0m     \u001b[38;5;28;01mreturn\u001b[39;00m response\n",
      "File \u001b[0;32m~/anaconda3/lib/python3.12/site-packages/selenium/webdriver/remote/errorhandler.py:229\u001b[0m, in \u001b[0;36mErrorHandler.check_response\u001b[0;34m(self, response)\u001b[0m\n\u001b[1;32m    227\u001b[0m         alert_text \u001b[38;5;241m=\u001b[39m value[\u001b[38;5;124m\"\u001b[39m\u001b[38;5;124malert\u001b[39m\u001b[38;5;124m\"\u001b[39m]\u001b[38;5;241m.\u001b[39mget(\u001b[38;5;124m\"\u001b[39m\u001b[38;5;124mtext\u001b[39m\u001b[38;5;124m\"\u001b[39m)\n\u001b[1;32m    228\u001b[0m     \u001b[38;5;28;01mraise\u001b[39;00m exception_class(message, screen, stacktrace, alert_text)  \u001b[38;5;66;03m# type: ignore[call-arg]  # mypy is not smart enough here\u001b[39;00m\n\u001b[0;32m--> 229\u001b[0m \u001b[38;5;28;01mraise\u001b[39;00m exception_class(message, screen, stacktrace)\n",
      "\u001b[0;31mElementClickInterceptedException\u001b[0m: Message: element click intercepted: Element <button data-v-05bce262=\"\" disabled=\"disabled\" type=\"button\" aria-label=\"Previous page\" class=\"v-pagination__navigation v-pagination__navigation--disabled\">...</button> is not clickable at point (701, 702). Other element would receive the click: <li data-v-05bce262=\"\">...</li>\n  (Session info: chrome=128.0.6613.85)\nStacktrace:\n0   chromedriver                        0x00000001011db9a8 cxxbridge1$str$ptr + 1887096\n1   chromedriver                        0x00000001011d3e10 cxxbridge1$str$ptr + 1855456\n2   chromedriver                        0x0000000100dd8be0 cxxbridge1$string$len + 89508\n3   chromedriver                        0x0000000100e226fc cxxbridge1$string$len + 391360\n4   chromedriver                        0x0000000100e20d28 cxxbridge1$string$len + 384748\n5   chromedriver                        0x0000000100e1ef54 cxxbridge1$string$len + 377112\n6   chromedriver                        0x0000000100e1e4a0 cxxbridge1$string$len + 374372\n7   chromedriver                        0x0000000100e13930 cxxbridge1$string$len + 330484\n8   chromedriver                        0x0000000100e133c0 cxxbridge1$string$len + 329092\n9   chromedriver                        0x0000000100e564a4 cxxbridge1$string$len + 603752\n10  chromedriver                        0x0000000100e11a08 cxxbridge1$string$len + 322508\n11  chromedriver                        0x0000000100e1266c cxxbridge1$string$len + 325680\n12  chromedriver                        0x00000001011a2068 cxxbridge1$str$ptr + 1651256\n13  chromedriver                        0x00000001011a699c cxxbridge1$str$ptr + 1669996\n14  chromedriver                        0x00000001011871fc cxxbridge1$str$ptr + 1541068\n15  chromedriver                        0x00000001011a726c cxxbridge1$str$ptr + 1672252\n16  chromedriver                        0x0000000101178810 cxxbridge1$str$ptr + 1481184\n17  chromedriver                        0x00000001011c5108 cxxbridge1$str$ptr + 1794776\n18  chromedriver                        0x00000001011c5284 cxxbridge1$str$ptr + 1795156\n19  chromedriver                        0x00000001011d3aac cxxbridge1$str$ptr + 1854588\n20  libsystem_pthread.dylib             0x000000018aff1f94 _pthread_start + 136\n21  libsystem_pthread.dylib             0x000000018afecd34 thread_start + 8\n"
     ]
    }
   ],
   "source": [
    "# Inicializa el navegador Chrome\n",
    "driver = webdriver.Chrome()\n",
    "\n",
    "# Navega a la página web Casa del libro\n",
    "driver.get(\"https://www.casadellibro.com\")\n",
    "\n",
    "sleep(3)\n",
    "\n",
    "#Maximiza la página\n",
    "driver.maximize_window()\n",
    "\n",
    "sleep(3)\n",
    "# Acepta las cookies haciendo clic en el elemento con el selector CSS \n",
    "driver.find_element(\"css selector\", \"#onetrust-accept-btn-handler\").click()\n",
    "\n",
    "print('Aceptacion cookies')\n",
    "\n",
    "sleep(3)\n",
    "\n",
    "\n",
    "#Busqueda de libros de ficcion\n",
    "driver.find_element(\"css selector\", \"#app > div.v-application--wrap > div.when-mobile > div.cabecera.desktop > div.bottom-row > div > div > div:nth-child(2) > a\").click()\n",
    "print('Ingresa a libros de ficcion')\n",
    "\n",
    "\n",
    "#Diccionario con información de los libros\n",
    "resultados_ficcion= {\n",
    "    \"Titulo\": [],\n",
    "    \"Autor\": [],\n",
    "    \"Precio\": [],\n",
    "    \"Editorial\": [],\n",
    "    \"Idioma\": [],\n",
    "    \"Paginas\": []}\n",
    "\n",
    "\n",
    "for libro in range(1,6):\n",
    "\n",
    "    driver.find_element(\"css selector\", \"#buscadorNF > div.col-md-9.col-12 > div > div.grid-view.mt-4 > div:nth-child(1) > a > div > img\").click()\n",
    "\n",
    "    # Titulo libro\n",
    "    titulo_libro = driver.find_element(\"css selector\", \"#app > div.v-application--wrap > main > div > div > div > div:nth-child(3) > div > div > div.col-md-5.order-lg-2.col-12.order-1 > div > h1\").text\n",
    "\n",
    "    #Apender titulo\n",
    "    resultados_ficcion['Titulo'].append(titulo_libro)\n",
    "\n",
    "    # Autor libro\n",
    "    autor_libro = driver.find_element(\"css selector\", \" #app > div.v-application--wrap > main > div > div > div > div:nth-child(3) > div > div > div.col-md-5.order-lg-2.col-12.order-1 > div > div.text-h5.d-flex.flex-wrap.author.mb-2.justify-center.justify-sm-start > div > a > span:nth-child(1)\").text\n",
    "     #Apender autor\n",
    "    resultados_ficcion['Autor'].append(autor_libro)\n",
    "\n",
    "\n",
    "     # Precio libro\n",
    "    precio_libro = driver.find_element(\"css selector\", \"#app > div.v-application--wrap > main > div > div > div > div:nth-child(3) > div > div > div.border-left.col-md-4.col-12.order-3 > div > div:nth-child(3) > div.col.col-8 > strong\").text\n",
    "     #Apender precio\n",
    "    resultados_ficcion['Precio'].append(precio_libro)\n",
    "\n",
    "    # Editorial libro\n",
    "    editorial_libro = driver.find_element(\"css selector\", \"#app > div.v-application--wrap > main > div > div > div > div:nth-child(6) > div > div > div.caracteristicas.mt-4.pt-4 > div:nth-child(1) > div > span\").text\n",
    "     #Apender editorial\n",
    "    resultados_ficcion['Editorial'].append(editorial_libro)\n",
    "\n",
    "     # Idiomas libro\n",
    "    idiomas_libro = driver.find_element(\"css selector\", \"#app > div.v-application--wrap > main > div > div > div > div:nth-child(6) > div > div > div.caracteristicas.mt-4.pt-4 > div:nth-child(3) > div > span\").text\n",
    "     #Apender idiomas\n",
    "    resultados_ficcion['Idiomas'].append(idiomas_libro)\n",
    "\n",
    "     # Paginas libro\n",
    "    paginas_libro = driver.find_element(\"css selector\", \"#app > div.v-application--wrap > main > div > div > div > div:nth-child(6) > div > div > div.caracteristicas.mt-4.pt-4 > div:nth-child(4) > div > span\").text\n",
    "     #Apender paginas\n",
    "    resultados_ficcion['Paginas'].append(paginas_libro)\n",
    "\n",
    "print(resultados_ficcion)\n",
    "    "
   ]
  },
  {
   "cell_type": "code",
   "execution_count": null,
   "metadata": {},
   "outputs": [],
   "source": [
    "lista_url= []\n",
    "for pagina in range(1,6):\n",
    "    url = driver.find_element(\"css selector\", f\"#buscadorNF > div.col-md-9.col-12 > div > div:nth-child(4) > div > div > nav > ul > li:nth-child({pagina})\").click()\n",
    "\n",
    "\n",
    "    #buscadorNF > div.col-md-9.col-12 > div > div:nth-child(4) > div > div > nav > ul > li:nth-child(3)\n",
    "    lista_url.append(url)\n",
    "\n",
    "print(lista_url)"
   ]
  }
 ],
 "metadata": {
  "kernelspec": {
   "display_name": "base",
   "language": "python",
   "name": "python3"
  },
  "language_info": {
   "codemirror_mode": {
    "name": "ipython",
    "version": 3
   },
   "file_extension": ".py",
   "mimetype": "text/x-python",
   "name": "python",
   "nbconvert_exporter": "python",
   "pygments_lexer": "ipython3",
   "version": "3.12.4"
  }
 },
 "nbformat": 4,
 "nbformat_minor": 2
}
